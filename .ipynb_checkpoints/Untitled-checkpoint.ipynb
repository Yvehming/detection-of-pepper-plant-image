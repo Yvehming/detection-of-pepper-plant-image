{
 "cells": [
  {
   "cell_type": "code",
   "execution_count": 10,
   "id": "91659b76",
   "metadata": {},
   "outputs": [
    {
     "name": "stdout",
     "output_type": "stream",
     "text": [
      "[0.77734375 0.77734375 0.39453125 0.37109375 0.19140625 0.16796875\n",
      " 0.1484375  0.14453125 0.1328125  0.11328125]\n",
      "[['pepper', 67, 21, 456, 365], ['root', 259, 313, 295, 370]]\n",
      "[259, 313, 295, 370]\n",
      "[[127 167 171]\n",
      " [ 87 128 131]\n",
      " [ 27  43  55]\n",
      " [ 55  87  96]]\n"
     ]
    }
   ],
   "source": [
    "from TFLite_detection_image import tflite_image_detection\n",
    "import numpy as np\n",
    "import cv2\n",
    "\n",
    "box = []\n",
    "image_path = 'img/test1.jpg'\n",
    "class_path = 'pepper_class.txt'\n",
    "model_path = 'pepper_detect_2cat_v3.tflite'\n",
    "result = tflite_image_detection(class_path, model_path, image_path)\n",
    "print(result)\n",
    "for i in range(len(result)):\n",
    "    if str(result[i][0]) == 'root':\n",
    "        box = result[i]\n",
    "        box.remove(box[0])\n",
    "print(box)\n",
    "# box = [259, 313, 295, 370]\n",
    "src = cv2.imread(image_path)\n",
    "src = src[box[1] - 10:box[3] + 10, box[0]:box[2] + 10]\n",
    "src = cv2.GaussianBlur(src, (3, 3), 0)  # 高斯滤波\n",
    "# img = cv2.cvtColor(src, cv2.COLOR_BGR2LAB)\n",
    "# b, g, r = cv2.split(src)\n",
    "# src = cv2.merge((b, 2*g, r))\n",
    "img = src\n",
    "Z = img.reshape((-1, 3))\n",
    "# convert to np.float32\n",
    "Z = np.float32(Z)\n",
    "# define criteria, number of clusters(K) and apply kmeans()\n",
    "criteria = (cv2.TERM_CRITERIA_EPS + cv2.TERM_CRITERIA_MAX_ITER, 10, 1.0)\n",
    "K = 4\n",
    "ret, label, center = cv2.kmeans(Z, K, None, criteria, 10, cv2.KMEANS_RANDOM_CENTERS)\n",
    "# Now convert back into uint8, and make original image\n",
    "center = np.uint8(center)\n",
    "res = center[label.flatten()]\n",
    "# for i in range(len(res)):\n",
    "#     if res[i].all() == center[0].all():\n",
    "#         res[i] = [255,0,0]\n",
    "#     if res[i].all() == center[1].all():\n",
    "#         res[i] = [0,255,0]\n",
    "#     if res[i].all() == center[2].all():\n",
    "#         res[i] = [0,0,255]\n",
    "res2 = res.reshape(img.shape)\n",
    "print(center)\n",
    "# blur = cv2.GaussianBlur(res2, (5, 5), 0)\n",
    "# res3, th3 = cv2.threshold(blur, 0, 255, cv2.THRESH_BINARY + cv2.THRESH_OTSU)\n",
    "cv2.imshow('res2', res2)\n",
    "cv2.waitKey(0)\n",
    "cv2.destroyAllWindows()"
   ]
  },
  {
   "cell_type": "code",
   "execution_count": 69,
   "id": "761f57e6",
   "metadata": {},
   "outputs": [
    {
     "data": {
      "text/plain": [
       "array([[ 51,  84, 101],\n",
       "       [ 51,  84, 101],\n",
       "       [ 51,  84, 101],\n",
       "       ...,\n",
       "       [ 96, 128, 151],\n",
       "       [ 96, 128, 151],\n",
       "       [ 96, 128, 151]], dtype=uint8)"
      ]
     },
     "execution_count": 69,
     "metadata": {},
     "output_type": "execute_result"
    }
   ],
   "source": [
    "res"
   ]
  },
  {
   "cell_type": "code",
   "execution_count": 11,
   "id": "879a0504",
   "metadata": {},
   "outputs": [
    {
     "name": "stdout",
     "output_type": "stream",
     "text": [
      "[[127 167 171]\n",
      " [ 87 128 131]\n",
      " [ 27  43  55]\n",
      " [ 55  87  96]]\n"
     ]
    }
   ],
   "source": [
    "opt = np.zeros(res.shape)\n",
    "color = [[255,0,0],[0,255,0],[0,0,255],[255,255,0],[0,255,255]]\n",
    "print(center)\n",
    "for i in range(len(res)):\n",
    "    if (res[i] == center[0]).all():\n",
    "        opt[i] = color[0]\n",
    "for i in range(len(res)):\n",
    "    if (res[i] == center[1]).all():\n",
    "        opt[i] = color[1]\n",
    "for i in range(len(res)):\n",
    "    if (res[i] == center[2]).all():\n",
    "        opt[i] = color[2]\n",
    "for i in range(len(res)):\n",
    "    if (res[i] == center[2]).all():\n",
    "        opt[i] = color[3]\n",
    "opt2 = opt.reshape(img.shape)\n",
    "# blur = cv2.GaussianBlur(res2, (5, 5), 0)\n",
    "# res3, th3 = cv2.threshold(blur, 0, 255, cv2.THRESH_BINARY + cv2.THRESH_OTSU)\n",
    "cv2.imshow('res2', opt2)\n",
    "cv2.waitKey(0)\n",
    "cv2.destroyAllWindows()"
   ]
  },
  {
   "cell_type": "code",
   "execution_count": 80,
   "id": "42299a79",
   "metadata": {},
   "outputs": [
    {
     "data": {
      "text/plain": [
       "False"
      ]
     },
     "execution_count": 80,
     "metadata": {},
     "output_type": "execute_result"
    }
   ],
   "source": [
    "(center[0] == res[0]).all()"
   ]
  },
  {
   "cell_type": "code",
   "execution_count": 74,
   "id": "1312654f",
   "metadata": {},
   "outputs": [
    {
     "data": {
      "text/plain": [
       "array([16, 34, 50], dtype=uint8)"
      ]
     },
     "execution_count": 74,
     "metadata": {},
     "output_type": "execute_result"
    }
   ],
   "source": [
    "center[0]"
   ]
  },
  {
   "cell_type": "code",
   "execution_count": 75,
   "id": "ac77fd72",
   "metadata": {},
   "outputs": [
    {
     "data": {
      "text/plain": [
       "array([ 51,  84, 101], dtype=uint8)"
      ]
     },
     "execution_count": 75,
     "metadata": {},
     "output_type": "execute_result"
    }
   ],
   "source": [
    "res[0] "
   ]
  }
 ],
 "metadata": {
  "kernelspec": {
   "display_name": "TFLite",
   "language": "python",
   "name": "tflite"
  },
  "language_info": {
   "codemirror_mode": {
    "name": "ipython",
    "version": 3
   },
   "file_extension": ".py",
   "mimetype": "text/x-python",
   "name": "python",
   "nbconvert_exporter": "python",
   "pygments_lexer": "ipython3",
   "version": "3.7.11"
  }
 },
 "nbformat": 4,
 "nbformat_minor": 5
}
