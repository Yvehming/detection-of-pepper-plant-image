{
 "cells": [
  {
   "cell_type": "code",
   "execution_count": 133,
   "id": "91659b76",
   "metadata": {},
   "outputs": [
    {
     "name": "stdout",
     "output_type": "stream",
     "text": [
      "[0.77734375 0.77734375 0.39453125 0.37109375 0.19140625 0.16796875\n",
      " 0.1484375  0.14453125 0.1328125  0.11328125]\n",
      "[['pepper', 67, 21, 456, 365], ['root', 259, 313, 295, 370]]\n",
      "[259, 313, 295, 370]\n",
      "[[ 90 132 133]\n",
      " [ 18  31  38]\n",
      " [157 206 192]\n",
      " [ 71 108 114]\n",
      " [ 53  84  93]\n",
      " [ 28  43  57]\n",
      " [114 151 160]\n",
      " [ 39  60  75]]\n"
     ]
    }
   ],
   "source": [
    "from TFLite_detection_image import tflite_image_detection\n",
    "import numpy as np\n",
    "import cv2\n",
    "\n",
    "box = []\n",
    "image_path = 'img/test1.jpg'\n",
    "class_path = 'pepper_class.txt'\n",
    "model_path = 'pepper_detect_2cat_v3.tflite'\n",
    "result = tflite_image_detection(class_path, model_path, image_path)\n",
    "print(result)\n",
    "for i in range(len(result)):\n",
    "    if str(result[i][0]) == 'root':\n",
    "        box = result[i]\n",
    "        box.remove(box[0])\n",
    "print(box)\n",
    "# box = [259, 313, 295, 370]\n",
    "src = cv2.imread(image_path)\n",
    "src = src[box[1] - 10:box[3] + 10, box[0]:box[2] + 10]\n",
    "src = cv2.GaussianBlur(src, (3, 3), 0)  # 高斯滤波\n",
    "# img = cv2.cvtColor(src, cv2.COLOR_BGR2LAB)\n",
    "cv2.imwrite('src.jpg', src)\n",
    "img = src\n",
    "Z = img.reshape((-1, 3))\n",
    "# convert to np.float32\n",
    "Z = np.float32(Z)\n",
    "# define criteria, number of clusters(K) and apply kmeans()\n",
    "criteria = (cv2.TERM_CRITERIA_EPS + cv2.TERM_CRITERIA_MAX_ITER, 10, 1.0)\n",
    "K = 8\n",
    "ret, label, center = cv2.kmeans(Z, K, None, criteria, 10, cv2.KMEANS_RANDOM_CENTERS)\n",
    "# Now convert back into uint8, and make original image\n",
    "center = np.uint8(center)\n",
    "res = center[label.flatten()]\n",
    "# for i in range(len(res)):\n",
    "#     if res[i].all() == center[0].all():\n",
    "#         res[i] = [255,0,0]\n",
    "#     if res[i].all() == center[1].all():\n",
    "#         res[i] = [0,255,0]\n",
    "#     if res[i].all() == center[2].all():\n",
    "#         res[i] = [0,0,255]\n",
    "res2 = res.reshape(img.shape)\n",
    "dst = cv2.applyColorMap(res2, cv2.COLORMAP_RAINBOW)\n",
    "print(center)\n",
    "# blur = cv2.GaussianBlur(res2, (5, 5), 0)\n",
    "# res3, th3 = cv2.threshold(blur, 0, 255, cv2.THRESH_BINARY + cv2.THRESH_OTSU)\n",
    "cv2.imshow('res2', res2)\n",
    "cv2.imwrite('kms.jpg',res2)\n",
    "cv2.imshow('res2_', dst)\n",
    "cv2.imwrite('visiualization.jpg', dst)\n",
    "cv2.waitKey(0)\n",
    "cv2.destroyAllWindows()"
   ]
  },
  {
   "cell_type": "code",
   "execution_count": 134,
   "id": "6de2f4f4",
   "metadata": {},
   "outputs": [
    {
     "name": "stdout",
     "output_type": "stream",
     "text": [
      "[0.77734375 0.77734375 0.39453125 0.37109375 0.19140625 0.16796875\n",
      " 0.1484375  0.14453125 0.1328125  0.11328125]\n",
      "[['pepper', 67, 21, 456, 365], ['root', 259, 313, 295, 370]]\n",
      "[259, 313, 295, 370]\n"
     ]
    }
   ],
   "source": [
    "from TFLite_detection_image import tflite_image_detection\n",
    "import numpy as np\n",
    "import cv2\n",
    "\n",
    "box = []\n",
    "image_path = 'img/test1.jpg'\n",
    "class_path = 'pepper_class.txt'\n",
    "model_path = 'pepper_detect_2cat_v3.tflite'\n",
    "result = tflite_image_detection(class_path, model_path, image_path)\n",
    "print(result)\n",
    "for i in range(len(result)):\n",
    "    if str(result[i][0]) == 'root':\n",
    "        box = result[i]\n",
    "        box.remove(box[0])\n",
    "print(box)\n",
    "# box = [259, 313, 295, 370]\n",
    "src = cv2.imread(image_path)\n",
    "src = src[box[1]:box[3], box[0]:box[2] + 10]\n",
    "cv2.imshow('src', src)\n",
    "cv2.waitKey(0)\n",
    "cv2.destroyAllWindows()"
   ]
  },
  {
   "cell_type": "code",
   "execution_count": 35,
   "id": "25e53fe8",
   "metadata": {},
   "outputs": [
    {
     "data": {
      "text/plain": [
       "array([[ 42,  69,  89],\n",
       "       [ 53,  77,  95],\n",
       "       [ 64,  87, 103],\n",
       "       [ 38,  59,  74],\n",
       "       [ 49,  70,  85],\n",
       "       [ 87, 108, 123],\n",
       "       [ 84, 106, 118],\n",
       "       [ 79, 100, 115],\n",
       "       [ 68,  89, 104],\n",
       "       [ 45,  65,  82],\n",
       "       [ 26,  46,  64],\n",
       "       [ 19,  38,  59],\n",
       "       [  8,  26,  43],\n",
       "       [  7,  22,  31],\n",
       "       [ 18,  37,  42],\n",
       "       [ 44,  68,  74],\n",
       "       [ 67, 100, 103],\n",
       "       [ 51,  92,  87],\n",
       "       [ 34,  81,  72],\n",
       "       [ 57, 107,  95],\n",
       "       [ 65, 118, 104],\n",
       "       [ 63, 118, 103],\n",
       "       [ 72, 129, 114],\n",
       "       [ 78, 137, 122],\n",
       "       [ 76, 134, 123],\n",
       "       [ 84, 141, 133],\n",
       "       [ 30,  81,  83],\n",
       "       [ 12,  55,  70],\n",
       "       [ 22,  60,  84],\n",
       "       [ 61,  97, 127],\n",
       "       [ 85, 120, 154],\n",
       "       [107, 142, 175],\n",
       "       [132, 166, 196],\n",
       "       [112, 146, 175],\n",
       "       [ 69, 102, 128],\n",
       "       [ 12,  42,  71],\n",
       "       [  0,  21,  48],\n",
       "       [  8,  35,  61],\n",
       "       [ 56,  85, 106],\n",
       "       [ 38,  66,  83],\n",
       "       [ 14,  43,  58],\n",
       "       [  0,  30,  41],\n",
       "       [ 10,  42,  53],\n",
       "       [ 33,  68,  78],\n",
       "       [ 29,  63,  76],\n",
       "       [  8,  41,  60]], dtype=uint8)"
      ]
     },
     "execution_count": 35,
     "metadata": {},
     "output_type": "execute_result"
    }
   ],
   "source": [
    "src[src.shape[0]//2]"
   ]
  },
  {
   "cell_type": "code",
   "execution_count": 135,
   "id": "b3c196d6",
   "metadata": {},
   "outputs": [
    {
     "name": "stdout",
     "output_type": "stream",
     "text": [
      "[[ 78 116 126]\n",
      " [ 25  53  67]]\n",
      "[[ 25  53  67]\n",
      " [ 25  53  67]\n",
      " [ 78 116 126]\n",
      " [ 25  53  67]\n",
      " [ 25  53  67]\n",
      " [ 78 116 126]\n",
      " [ 78 116 126]\n",
      " [ 78 116 126]\n",
      " [ 78 116 126]\n",
      " [ 25  53  67]\n",
      " [ 25  53  67]\n",
      " [ 25  53  67]\n",
      " [ 25  53  67]\n",
      " [ 25  53  67]\n",
      " [ 25  53  67]\n",
      " [ 25  53  67]\n",
      " [ 78 116 126]\n",
      " [ 25  53  67]\n",
      " [ 25  53  67]\n",
      " [ 78 116 126]\n",
      " [ 78 116 126]\n",
      " [ 78 116 126]\n",
      " [ 78 116 126]\n",
      " [ 78 116 126]\n",
      " [ 78 116 126]\n",
      " [ 78 116 126]\n",
      " [ 25  53  67]\n",
      " [ 25  53  67]\n",
      " [ 25  53  67]\n",
      " [ 78 116 126]\n",
      " [ 78 116 126]\n",
      " [ 78 116 126]\n",
      " [ 78 116 126]\n",
      " [ 78 116 126]\n",
      " [ 78 116 126]\n",
      " [ 25  53  67]\n",
      " [ 25  53  67]\n",
      " [ 25  53  67]\n",
      " [ 78 116 126]\n",
      " [ 25  53  67]\n",
      " [ 25  53  67]\n",
      " [ 25  53  67]\n",
      " [ 25  53  67]\n",
      " [ 25  53  67]\n",
      " [ 25  53  67]\n",
      " [ 25  53  67]]\n"
     ]
    }
   ],
   "source": [
    "src[src.shape[0]//2]\n",
    "Z = src[src.shape[0]//2].reshape((-1, 3))\n",
    "Z = np.float32(Z)\n",
    "criteria = (cv2.TERM_CRITERIA_EPS + cv2.TERM_CRITERIA_MAX_ITER, 10, 1.0)\n",
    "K = 2\n",
    "ret, label, center = cv2.kmeans(Z, K, None, criteria, 10, cv2.KMEANS_RANDOM_CENTERS)\n",
    "center = np.uint8(center)\n",
    "res = center[label.flatten()]\n",
    "print(center)\n",
    "print(res)"
   ]
  },
  {
   "cell_type": "code",
   "execution_count": null,
   "id": "895312cd",
   "metadata": {},
   "outputs": [],
   "source": [
    "img_show = np.zeros(src.shape)\n",
    "img_show[:] = res\n",
    "img_show = np.uint8(img_show)\n",
    "img_show = cv2.applyColorMap(img_show, cv2.COLORMAP_RAINBOW)\n",
    "cv2.imshow('src', img_show)\n",
    "cv2.waitKey(0)\n",
    "cv2.destroyAllWindows()"
   ]
  },
  {
   "cell_type": "markdown",
   "id": "bd79dfd0",
   "metadata": {},
   "source": [
    "# K-Means聚类实例"
   ]
  },
  {
   "cell_type": "code",
   "execution_count": 6,
   "id": "e4ecf75a",
   "metadata": {},
   "outputs": [
    {
     "name": "stdout",
     "output_type": "stream",
     "text": [
      "[[148 116  82]\n",
      " [106  86  60]\n",
      " [ 72 150 174]]\n"
     ]
    }
   ],
   "source": [
    "import numpy as np\n",
    "import cv2\n",
    "src = cv2.imread('img/littleduck.jpg')\n",
    "src = cv2.GaussianBlur(src, (3, 3), 0)  # 高斯滤波\n",
    "# img = cv2.cvtColor(src, cv2.COLOR_BGR2LAB)\n",
    "img = src\n",
    "Z = img.reshape((-1, 3))\n",
    "# convert to np.float32\n",
    "Z = np.float32(Z)\n",
    "# define criteria, number of clusters(K) and apply kmeans()\n",
    "criteria = (cv2.TERM_CRITERIA_EPS + cv2.TERM_CRITERIA_MAX_ITER, 10, 1.0)\n",
    "K = 3\n",
    "ret, label, center = cv2.kmeans(Z, K, None, criteria, 10, cv2.KMEANS_RANDOM_CENTERS)\n",
    "# Now convert back into uint8, and make original image\n",
    "center = np.uint8(center)\n",
    "res = center[label.flatten()]\n",
    "res2 = res.reshape(img.shape)\n",
    "dst = cv2.applyColorMap(res2, cv2.COLORMAP_RAINBOW)\n",
    "print(center)\n",
    "# blur = cv2.GaussianBlur(res2, (5, 5), 0)\n",
    "# res3, th3 = cv2.threshold(blur, 0, 255, cv2.THRESH_BINARY + cv2.THRESH_OTSU)\n",
    "cv2.imshow('res2', res2)\n",
    "cv2.imshow('res2_', dst)\n",
    "cv2.waitKey(0)\n",
    "cv2.destroyAllWindows()"
   ]
  }
 ],
 "metadata": {
  "kernelspec": {
   "display_name": "TFLite",
   "language": "python",
   "name": "tflite"
  },
  "language_info": {
   "codemirror_mode": {
    "name": "ipython",
    "version": 3
   },
   "file_extension": ".py",
   "mimetype": "text/x-python",
   "name": "python",
   "nbconvert_exporter": "python",
   "pygments_lexer": "ipython3",
   "version": "3.7.11"
  },
  "varInspector": {
   "cols": {
    "lenName": 16,
    "lenType": 16,
    "lenVar": 40
   },
   "kernels_config": {
    "python": {
     "delete_cmd_postfix": "",
     "delete_cmd_prefix": "del ",
     "library": "var_list.py",
     "varRefreshCmd": "print(var_dic_list())"
    },
    "r": {
     "delete_cmd_postfix": ") ",
     "delete_cmd_prefix": "rm(",
     "library": "var_list.r",
     "varRefreshCmd": "cat(var_dic_list()) "
    }
   },
   "position": {
    "height": "531.85px",
    "left": "981.2px",
    "right": "20px",
    "top": "104px",
    "width": "350px"
   },
   "types_to_exclude": [
    "module",
    "function",
    "builtin_function_or_method",
    "instance",
    "_Feature"
   ],
   "window_display": false
  }
 },
 "nbformat": 4,
 "nbformat_minor": 5
}
