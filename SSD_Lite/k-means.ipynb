{
 "cells": [
  {
   "cell_type": "code",
   "execution_count": null,
   "id": "91659b76",
   "metadata": {},
   "outputs": [],
   "source": [
    "from TFLite_detection_image import tflite_image_detection\n",
    "import numpy as np\n",
    "import cv2\n",
    "\n",
    "box = []\n",
    "image_path = 'img/test1.jpg'\n",
    "class_path = 'pepper_class.txt'\n",
    "model_path = 'pepper_detect_2cat_v3.tflite'\n",
    "result = tflite_image_detection(class_path, model_path, image_path)\n",
    "print(result)\n",
    "for i in range(len(result)):\n",
    "    if str(result[i][0]) == 'root':\n",
    "        box = result[i]\n",
    "        box.remove(box[0])\n",
    "print(box)\n",
    "# box = [259, 313, 295, 370]\n",
    "src = cv2.imread(image_path)\n",
    "src = src[box[1] - 10:box[3] + 10, box[0]:box[2] + 10]\n",
    "src = cv2.GaussianBlur(src, (3, 3), 0)  # 高斯滤波\n",
    "# img = cv2.cvtColor(src, cv2.COLOR_BGR2LAB)\n",
    "img = src\n",
    "Z = img.reshape((-1, 3))\n",
    "# convert to np.float32\n",
    "Z = np.float32(Z)\n",
    "# define criteria, number of clusters(K) and apply kmeans()\n",
    "criteria = (cv2.TERM_CRITERIA_EPS + cv2.TERM_CRITERIA_MAX_ITER, 10, 1.0)\n",
    "K = 8\n",
    "ret, label, center = cv2.kmeans(Z, K, None, criteria, 10, cv2.KMEANS_RANDOM_CENTERS)\n",
    "# Now convert back into uint8, and make original image\n",
    "center = np.uint8(center)\n",
    "res = center[label.flatten()]\n",
    "# for i in range(len(res)):\n",
    "#     if res[i].all() == center[0].all():\n",
    "#         res[i] = [255,0,0]\n",
    "#     if res[i].all() == center[1].all():\n",
    "#         res[i] = [0,255,0]\n",
    "#     if res[i].all() == center[2].all():\n",
    "#         res[i] = [0,0,255]\n",
    "res2 = res.reshape(img.shape)\n",
    "dst = cv2.applyColorMap(res2, cv2.COLORMAP_RAINBOW)\n",
    "print(center)\n",
    "# blur = cv2.GaussianBlur(res2, (5, 5), 0)\n",
    "# res3, th3 = cv2.threshold(blur, 0, 255, cv2.THRESH_BINARY + cv2.THRESH_OTSU)\n",
    "cv2.imshow('res2', res2)\n",
    "cv2.imwrite('kms.jpg',res2)\n",
    "cv2.imshow('res2_', dst)\n",
    "cv2.imwrite('visiualization.jpg', dst)\n",
    "cv2.waitKey(0)\n",
    "cv2.destroyAllWindows()"
   ]
  },
  {
   "cell_type": "code",
   "execution_count": null,
   "id": "25e53fe8",
   "metadata": {},
   "outputs": [],
   "source": [
    "src[src.shape[0]//2]"
   ]
  },
  {
   "cell_type": "code",
   "execution_count": null,
   "id": "b3c196d6",
   "metadata": {},
   "outputs": [],
   "source": [
    "from TFLite_detection_image import tflite_image_detection\n",
    "import numpy as np\n",
    "import cv2\n",
    "from matplotlib import pyplot as plt\n",
    "box = []\n",
    "image_path = 'img/test5.jpg'\n",
    "class_path = 'pepper_class.txt'\n",
    "model_path = 'pepper_detect_2cat_v3.tflite'\n",
    "result = tflite_image_detection(class_path, model_path, image_path)\n",
    "print(result)\n",
    "for i in range(len(result)):\n",
    "    if str(result[i][0]) == 'root':\n",
    "        box = result[i]\n",
    "        box.remove(box[0])\n",
    "print(box)\n",
    "# box = [259, 313, 295, 370]\n",
    "src = cv2.imread(image_path)\n",
    "src = src[box[1]:box[3], box[0]:box[2] + 10]\n",
    "Z = src[src.shape[0]//4:3*src.shape[0]//4].reshape((-1, 3))\n",
    "Z = np.float32(Z)\n",
    "criteria = (cv2.TERM_CRITERIA_EPS + cv2.TERM_CRITERIA_MAX_ITER, 10, 1.0)\n",
    "K = 3\n",
    "ret, label, center = cv2.kmeans(Z, K, None, criteria, 10, cv2.KMEANS_RANDOM_CENTERS)\n",
    "center = np.uint8(center)\n",
    "res = center[label.flatten()]\n",
    "print(center)\n",
    "# img_show = np.zeros(src.shape)\n",
    "# img_show[:] = res\n",
    "img_show = np.uint8(res).reshape(src[src.shape[0]//4:3*src.shape[0]//4].shape)\n",
    "img_show = cv2.applyColorMap(img_show, cv2.COLORMAP_RAINBOW)\n",
    "cv2.imshow('origin', src)\n",
    "cv2.imshow('show', img_show)\n",
    "# plt.imshow('show', img_show)\n",
    "cv2.imshow('src', src[src.shape[0]//4:3*src.shape[0]//4])\n",
    "# plt.imshow('src', src[src.shape[0]//3:2*src.shape[0]//3])\n",
    "cv2.waitKey(0)\n",
    "cv2.destroyAllWindows()"
   ]
  },
  {
   "cell_type": "markdown",
   "id": "bd79dfd0",
   "metadata": {},
   "source": [
    "# K-Means聚类实例"
   ]
  },
  {
   "cell_type": "code",
   "execution_count": null,
   "id": "e4ecf75a",
   "metadata": {},
   "outputs": [],
   "source": [
    "import numpy as np\n",
    "import cv2\n",
    "src = cv2.imread('img/littleduck.jpg')\n",
    "src = cv2.GaussianBlur(src, (3, 3), 0)  # 高斯滤波\n",
    "# img = cv2.cvtColor(src, cv2.COLOR_BGR2LAB)\n",
    "img = src\n",
    "Z = img.reshape((-1, 3))\n",
    "# convert to np.float32\n",
    "Z = np.float32(Z)\n",
    "# define criteria, number of clusters(K) and apply kmeans()\n",
    "criteria = (cv2.TERM_CRITERIA_EPS + cv2.TERM_CRITERIA_MAX_ITER, 10, 1.0)\n",
    "K = 3\n",
    "ret, label, center = cv2.kmeans(Z, K, None, criteria, 10, cv2.KMEANS_RANDOM_CENTERS)\n",
    "# Now convert back into uint8, and make original image\n",
    "center = np.uint8(center)\n",
    "res = center[label.flatten()]\n",
    "res2 = res.reshape(img.shape)\n",
    "dst = cv2.applyColorMap(res2, cv2.COLORMAP_RAINBOW)\n",
    "print(center)\n",
    "# blur = cv2.GaussianBlur(res2, (5, 5), 0)\n",
    "# res3, th3 = cv2.threshold(blur, 0, 255, cv2.THRESH_BINARY + cv2.THRESH_OTSU)\n",
    "cv2.imshow('res2', res2)\n",
    "cv2.imshow('res2_', dst)\n",
    "cv2.waitKey(0)\n",
    "cv2.destroyAllWindows()"
   ]
  },
  {
   "cell_type": "code",
   "execution_count": null,
   "id": "ef54e201",
   "metadata": {},
   "outputs": [],
   "source": []
  }
 ],
 "metadata": {
  "kernelspec": {
   "display_name": "TFLite",
   "language": "python",
   "name": "tflite"
  },
  "language_info": {
   "codemirror_mode": {
    "name": "ipython",
    "version": 3
   },
   "file_extension": ".py",
   "mimetype": "text/x-python",
   "name": "python",
   "nbconvert_exporter": "python",
   "pygments_lexer": "ipython3",
   "version": "3.7.11"
  },
  "varInspector": {
   "cols": {
    "lenName": 16,
    "lenType": 16,
    "lenVar": 40
   },
   "kernels_config": {
    "python": {
     "delete_cmd_postfix": "",
     "delete_cmd_prefix": "del ",
     "library": "var_list.py",
     "varRefreshCmd": "print(var_dic_list())"
    },
    "r": {
     "delete_cmd_postfix": ") ",
     "delete_cmd_prefix": "rm(",
     "library": "var_list.r",
     "varRefreshCmd": "cat(var_dic_list()) "
    }
   },
   "position": {
    "height": "531.85px",
    "left": "981.2px",
    "right": "20px",
    "top": "104px",
    "width": "350px"
   },
   "types_to_exclude": [
    "module",
    "function",
    "builtin_function_or_method",
    "instance",
    "_Feature"
   ],
   "window_display": false
  }
 },
 "nbformat": 4,
 "nbformat_minor": 5
}
