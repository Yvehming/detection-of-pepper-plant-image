{
 "cells": [
  {
   "cell_type": "markdown",
   "id": "2cbd0086",
   "metadata": {},
   "source": [
    "# RGB分量，全图片，聚类"
   ]
  },
  {
   "cell_type": "code",
   "execution_count": null,
   "id": "b6dc0231",
   "metadata": {},
   "outputs": [],
   "source": [
    "from TFLite_detection_image import tflite_image_detection\n",
    "import numpy as np\n",
    "import cv2\n",
    "\n",
    "box = []\n",
    "image_path = 'img/test1.jpg'\n",
    "class_path = 'pepper_class.txt'\n",
    "model_path = 'pepper_detect_2cat_v3.tflite'\n",
    "result = tflite_image_detection(class_path, model_path, image_path)\n",
    "print(result)\n",
    "for i in range(len(result)):\n",
    "    if str(result[i][0]) == 'root':\n",
    "        box = result[i]\n",
    "        box.remove(box[0])\n",
    "print(box)\n",
    "# box = [259, 313, 295, 370]\n",
    "src = cv2.imread(image_path)\n",
    "src = src[box[1] - 10:box[3] + 10, box[0]:box[2] + 10]\n",
    "src = cv2.GaussianBlur(src, (3, 3), 0)  # 高斯滤波\n",
    "src = cv2.cvtColor(src, cv2.COLOR_BGR2Lab)\n",
    "img = src\n",
    "Z = img.reshape((-1, 3))\n",
    "# convert to np.float32\n",
    "Z = np.float32(Z)\n",
    "# define criteria, number of clusters(K) and apply kmeans()\n",
    "criteria = (cv2.TERM_CRITERIA_EPS + cv2.TERM_CRITERIA_MAX_ITER, 10, 1.0)\n",
    "K = 4\n",
    "ret, label, center = cv2.kmeans(Z, K, None, criteria, 10, cv2.KMEANS_RANDOM_CENTERS)\n",
    "# Now convert back into uint8, and make original image\n",
    "center = np.uint8(center)\n",
    "res = center[label.flatten()]\n",
    "# for i in range(len(res)):\n",
    "#     if res[i].all() == center[0].all():\n",
    "#         res[i] = [255,0,0]\n",
    "#     if res[i].all() == center[1].all():\n",
    "#         res[i] = [0,255,0]\n",
    "#     if res[i].all() == center[2].all():\n",
    "#         res[i] = [0,0,255]\n",
    "res2 = res.reshape(img.shape)\n",
    "dst = cv2.applyColorMap(res2, cv2.COLORMAP_RAINBOW)\n",
    "print(center)\n",
    "# blur = cv2.GaussianBlur(res2, (5, 5), 0)\n",
    "# res3, th3 = cv2.threshold(blur, 0, 255, cv2.THRESH_BINARY + cv2.THRESH_OTSU)\n",
    "cv2.imshow('res2', res2)\n",
    "cv2.imshow('res2_', dst)\n",
    "cv2.waitKey(0)\n",
    "cv2.destroyAllWindows()"
   ]
  },
  {
   "cell_type": "code",
   "execution_count": 59,
   "id": "25e53fe8",
   "metadata": {},
   "outputs": [
    {
     "data": {
      "text/plain": [
       "array([[ 77, 139, 113],\n",
       "       [ 80, 139, 113],\n",
       "       [ 80, 138, 115],\n",
       "       [ 71, 137, 116],\n",
       "       [ 69, 137, 116],\n",
       "       [ 86, 136, 116],\n",
       "       [100, 136, 116],\n",
       "       [ 99, 137, 116],\n",
       "       [ 89, 137, 116],\n",
       "       [ 76, 137, 116],\n",
       "       [ 65, 137, 115],\n",
       "       [ 54, 138, 116],\n",
       "       [ 39, 137, 117],\n",
       "       [ 29, 134, 118],\n",
       "       [ 37, 132, 117],\n",
       "       [ 63, 132, 114],\n",
       "       [ 84, 132, 111],\n",
       "       [ 86, 129, 108],\n",
       "       [ 85, 127, 105],\n",
       "       [ 91, 126, 105],\n",
       "       [ 99, 125, 104],\n",
       "       [106, 125, 103],\n",
       "       [115, 124, 101],\n",
       "       [121, 125, 101],\n",
       "       [127, 127, 101],\n",
       "       [123, 129, 102],\n",
       "       [100, 133, 104],\n",
       "       [ 76, 138, 107],\n",
       "       [ 76, 142, 106],\n",
       "       [ 96, 145, 105],\n",
       "       [121, 147, 105],\n",
       "       [141, 147, 106],\n",
       "       [150, 145, 105],\n",
       "       [131, 144, 107],\n",
       "       [ 95, 144, 108],\n",
       "       [ 63, 144, 108],\n",
       "       [ 48, 143, 110],\n",
       "       [ 58, 142, 111],\n",
       "       [ 77, 141, 111],\n",
       "       [ 79, 139, 111],\n",
       "       [ 65, 138, 111],\n",
       "       [ 54, 137, 111],\n",
       "       [ 62, 137, 111],\n",
       "       [ 74, 137, 109],\n",
       "       [ 72, 139, 109],\n",
       "       [ 67, 139, 109]], dtype=uint8)"
      ]
     },
     "execution_count": 59,
     "metadata": {},
     "output_type": "execute_result"
    }
   ],
   "source": [
    "src[src.shape[0]//2]"
   ]
  },
  {
   "cell_type": "markdown",
   "id": "1a530df0",
   "metadata": {},
   "source": [
    "# RGB分量，部分图片，聚类"
   ]
  },
  {
   "cell_type": "code",
   "execution_count": 109,
   "id": "b3c196d6",
   "metadata": {},
   "outputs": [
    {
     "name": "stdout",
     "output_type": "stream",
     "text": [
      "[0.77734375 0.77734375 0.39453125 0.37109375 0.19140625 0.16796875\n",
      " 0.1484375  0.14453125 0.1328125  0.11328125]\n",
      "[['pepper', 67, 21, 456, 365], ['root', 259, 313, 295, 370]]\n",
      "[259, 313, 295, 370]\n",
      "[[ 81 124 127]\n",
      " [ 16  31  40]\n",
      " [ 58 100  97]\n",
      " [127 162 179]\n",
      " [ 37  63  74]]\n"
     ]
    }
   ],
   "source": [
    "from TFLite_detection_image import tflite_image_detection\n",
    "import numpy as np\n",
    "import cv2\n",
    "from matplotlib import pyplot as plt\n",
    "box = []\n",
    "image_path = 'img/test1.jpg'\n",
    "class_path = 'pepper_class.txt'\n",
    "model_path = 'pepper_detect_2cat_v3.tflite'\n",
    "result = tflite_image_detection(class_path, model_path, image_path)\n",
    "print(result)\n",
    "for i in range(len(result)):\n",
    "    if str(result[i][0]) == 'root':\n",
    "        box = result[i]\n",
    "        box.remove(box[0])\n",
    "print(box)\n",
    "# box = [259, 313, 295, 370]\n",
    "src = cv2.imread(image_path)\n",
    "src = src[box[1]:box[3], box[0]:box[2] + 10]\n",
    "src = src[src.shape[0]//3:2*src.shape[0]//3]\n",
    "Z = src.reshape((-1, 3))\n",
    "Z = np.float32(Z)\n",
    "criteria = (cv2.TERM_CRITERIA_EPS + cv2.TERM_CRITERIA_MAX_ITER, 10, 1.0)\n",
    "K = 5\n",
    "ret, label, center = cv2.kmeans(Z, K, None, criteria, 10, cv2.KMEANS_RANDOM_CENTERS)\n",
    "center = np.uint8(center)\n",
    "res = center[label.flatten()]\n",
    "print(center)\n",
    "# img_show = np.zeros(src.shape)\n",
    "# img_show[:] = res\n",
    "img_show = np.uint8(res).reshape(src.shape)\n",
    "img_show = cv2.applyColorMap(img_show, cv2.COLORMAP_RAINBOW)\n",
    "cv2.imshow('origin', src)\n",
    "cv2.imshow('show', img_show)\n",
    "# plt.imshow('show', img_show)\n",
    "cv2.imshow('src', src)\n",
    "# plt.imshow('src', src[src.shape[0]//3:2*src.shape[0]//3])\n",
    "cv2.waitKey(0)\n",
    "cv2.destroyAllWindows()"
   ]
  },
  {
   "cell_type": "markdown",
   "id": "bd79dfd0",
   "metadata": {},
   "source": [
    "# K-Means聚类实例"
   ]
  },
  {
   "cell_type": "code",
   "execution_count": 81,
   "id": "e4ecf75a",
   "metadata": {},
   "outputs": [
    {
     "name": "stdout",
     "output_type": "stream",
     "text": [
      "[[148 146  85]\n",
      " [110 108 149]\n",
      " [ 80 113 142]]\n"
     ]
    }
   ],
   "source": [
    "import numpy as np\n",
    "import cv2\n",
    "src = cv2.imread('img/littleduck.jpg')\n",
    "src = cv2.GaussianBlur(src, (3, 3), 0)  # 高斯滤波\n",
    "src = cv2.cvtColor(src, cv2.COLOR_BGR2YCrCb)\n",
    "img = src\n",
    "Z = img.reshape((-1, 3))\n",
    "# convert to np.float32\n",
    "Z = np.float32(Z)\n",
    "# define criteria, number of clusters(K) and apply kmeans()\n",
    "criteria = (cv2.TERM_CRITERIA_EPS + cv2.TERM_CRITERIA_MAX_ITER, 10, 1.0)\n",
    "K = 3\n",
    "ret, label, center = cv2.kmeans(Z, K, None, criteria, 10, cv2.KMEANS_RANDOM_CENTERS)\n",
    "# Now convert back into uint8, and make original image\n",
    "center = np.uint8(center)\n",
    "res = center[label.flatten()]\n",
    "res2 = res.reshape(img.shape)\n",
    "dst = cv2.applyColorMap(res2, cv2.COLORMAP_RAINBOW)\n",
    "print(center)\n",
    "# blur = cv2.GaussianBlur(res2, (5, 5), 0)\n",
    "# res3, th3 = cv2.threshold(blur, 0, 255, cv2.THRESH_BINARY + cv2.THRESH_OTSU)\n",
    "cv2.imshow('res2', res2)\n",
    "cv2.imshow('res2_', dst)\n",
    "cv2.waitKey(0)\n",
    "cv2.destroyAllWindows()"
   ]
  },
  {
   "cell_type": "code",
   "execution_count": null,
   "id": "ef54e201",
   "metadata": {},
   "outputs": [],
   "source": [
    "import matplotlib.pyplot as plt\n",
    "import matplotlib.image as mpimg\n",
    "img = mpimg.imread('img/test1.jpg')\n",
    "imgplot = plt.imshow(img)"
   ]
  },
  {
   "cell_type": "code",
   "execution_count": 112,
   "id": "a5cba7e1",
   "metadata": {},
   "outputs": [
    {
     "name": "stdout",
     "output_type": "stream",
     "text": [
      "[0.77734375 0.77734375 0.39453125 0.37109375 0.19140625 0.16796875\n",
      " 0.1484375  0.14453125 0.1328125  0.11328125]\n",
      "[['pepper', 67, 21, 456, 365], ['root', 259, 313, 295, 370]]\n",
      "[259, 313, 295, 370]\n",
      "[[ 23  37  47]\n",
      " [ 48  79  86]\n",
      " [ 73 120 119]\n",
      " [112 146 165]]\n"
     ]
    },
    {
     "data": {
      "image/png": "[encoded data removed]",
      "text/plain": [
       "<Figure size 432x288 with 3 Axes>"
      ]
     },
     "metadata": {
      "needs_background": "light"
     },
     "output_type": "display_data"
    }
   ],
   "source": [
    "from TFLite_detection_image import tflite_image_detection\n",
    "import numpy as np\n",
    "import cv2\n",
    "from matplotlib import pyplot as plt\n",
    "box = []\n",
    "image_path = 'img/test1.jpg'\n",
    "class_path = 'pepper_class.txt'\n",
    "model_path = 'pepper_detect_2cat_v3.tflite'\n",
    "result = tflite_image_detection(class_path, model_path, image_path)\n",
    "print(result)\n",
    "for i in range(len(result)):\n",
    "    if str(result[i][0]) == 'root':\n",
    "        box = result[i]\n",
    "        box.remove(box[0])\n",
    "print(box)\n",
    "# box = [259, 313, 295, 370]\n",
    "src = cv2.imread(image_path)\n",
    "src = src[box[1]:box[3], box[0]:box[2] + 10]\n",
    "src = cv2.GaussianBlur(src, (3, 3), 0)  # 高斯滤波\n",
    "# src = cv2.cvtColor(src, cv2.COLOR_BGR2Lab)\n",
    "Z = src[src.shape[0]//4:3*src.shape[0]//4].reshape((-1, 3))\n",
    "Z = np.float32(Z)\n",
    "criteria = (cv2.TERM_CRITERIA_EPS + cv2.TERM_CRITERIA_MAX_ITER, 10, 1.0)\n",
    "K = 4\n",
    "ret, label, center = cv2.kmeans(Z, K, None, criteria, 10, cv2.KMEANS_RANDOM_CENTERS)\n",
    "center = np.uint8(center)\n",
    "res = center[label.flatten()]\n",
    "print(center)\n",
    "# img_show = np.zeros(src.shape)\n",
    "# img_show[:] = res\n",
    "img_show = np.uint8(res).reshape(src[src.shape[0]//4:3*src.shape[0]//4].shape)\n",
    "img_show = cv2.applyColorMap(img_show, cv2.COLORMAP_RAINBOW)\n",
    "img_show = cv2.cvtColor(img_show, cv2.COLOR_BGR2RGB)\n",
    "src = src[src.shape[0]//4:3*src.shape[0]//4]\n",
    "src = cv2.cvtColor(src, cv2.COLOR_BGR2RGB)\n",
    "# cv2.imshow('origin', src)\n",
    "# cv2.imshow('show', img_show)\n",
    "fig = plt.figure()\n",
    "ax = fig.add_subplot(1, 3, 1)\n",
    "imgplot = plt.imshow(src)\n",
    "ax = fig.add_subplot(1, 3, 2)\n",
    "src = src[src.shape[0]//4:3*src.shape[0]//4]\n",
    "imgplot = plt.imshow(src)\n",
    "ax = fig.add_subplot(1, 3, 3)\n",
    "imgplot = plt.imshow(img_show)"
   ]
  },
  {
   "cell_type": "code",
   "execution_count": 105,
   "id": "439f04f1",
   "metadata": {},
   "outputs": [
    {
     "name": "stdout",
     "output_type": "stream",
     "text": [
      "[0.77734375 0.77734375 0.39453125 0.37109375 0.19140625 0.16796875\n",
      " 0.1484375  0.14453125 0.1328125  0.11328125]\n",
      "[['pepper', 67, 21, 456, 365], ['root', 259, 313, 295, 370]]\n",
      "[259, 313, 295, 370]\n",
      "[[147 121 151]\n",
      " [ 48 130 140]\n",
      " [104 125 149]]\n"
     ]
    },
    {
     "data": {
      "image/png": "[encoded data removed]",
      "text/plain": [
       "<Figure size 432x288 with 3 Axes>"
      ]
     },
     "metadata": {
      "needs_background": "light"
     },
     "output_type": "display_data"
    }
   ],
   "source": [
    "from TFLite_detection_image import tflite_image_detection\n",
    "import numpy as np\n",
    "import cv2\n",
    "from matplotlib import pyplot as plt\n",
    "box = []\n",
    "image_path = 'img/test1.jpg'\n",
    "class_path = 'pepper_class.txt'\n",
    "model_path = 'pepper_detect_2cat_v3.tflite'\n",
    "result = tflite_image_detection(class_path, model_path, image_path)\n",
    "print(result)\n",
    "for i in range(len(result)):\n",
    "    if str(result[i][0]) == 'root':\n",
    "        box = result[i]\n",
    "        box.remove(box[0])\n",
    "print(box)\n",
    "# box = [259, 313, 295, 370]\n",
    "src = cv2.imread(image_path)\n",
    "src = src[box[1]:box[3], box[0]:box[2] + 10]\n",
    "src = cv2.GaussianBlur(src, (3, 3), 0)  # 高斯滤波\n",
    "src = cv2.cvtColor(src, cv2.COLOR_BGR2Lab)\n",
    "Z = src.reshape((-1, 3))\n",
    "Z = np.float32(Z)\n",
    "criteria = (cv2.TERM_CRITERIA_EPS + cv2.TERM_CRITERIA_MAX_ITER, 10, 1.0)\n",
    "K = 3\n",
    "ret, label, center = cv2.kmeans(Z, K, None, criteria, 10, cv2.KMEANS_RANDOM_CENTERS)\n",
    "center = np.uint8(center)\n",
    "res = center[label.flatten()]\n",
    "print(center)\n",
    "# img_show = np.zeros(src.shape)\n",
    "# img_show[:] = res\n",
    "img_show = np.uint8(res).reshape(src.shape)\n",
    "fig = plt.figure()\n",
    "ax = fig.add_subplot(1, 3, 1)\n",
    "imgplot = plt.imshow(src)\n",
    "ax = fig.add_subplot(1, 3, 2)\n",
    "src = src[src.shape[0]//4:3*src.shape[0]//4]\n",
    "imgplot = plt.imshow(src)\n",
    "ax = fig.add_subplot(1, 3, 3)\n",
    "imgplot = plt.imshow(img_show)"
   ]
  },
  {
   "cell_type": "code",
   "execution_count": null,
   "id": "bc71c1b6",
   "metadata": {},
   "outputs": [],
   "source": []
  }
 ],
 "metadata": {
  "kernelspec": {
   "display_name": "TFLite",
   "language": "python",
   "name": "tflite"
  },
  "language_info": {
   "codemirror_mode": {
    "name": "ipython",
    "version": 3
   },
   "file_extension": ".py",
   "mimetype": "text/x-python",
   "name": "python",
   "nbconvert_exporter": "python",
   "pygments_lexer": "ipython3",
   "version": "3.7.11"
  },
  "varInspector": {
   "cols": {
    "lenName": 16,
    "lenType": 16,
    "lenVar": 40
   },
   "kernels_config": {
    "python": {
     "delete_cmd_postfix": "",
     "delete_cmd_prefix": "del ",
     "library": "var_list.py",
     "varRefreshCmd": "print(var_dic_list())"
    },
    "r": {
     "delete_cmd_postfix": ") ",
     "delete_cmd_prefix": "rm(",
     "library": "var_list.r",
     "varRefreshCmd": "cat(var_dic_list()) "
    }
   },
   "position": {
    "height": "531.85px",
    "left": "981.2px",
    "right": "20px",
    "top": "104px",
    "width": "350px"
   },
   "types_to_exclude": [
    "module",
    "function",
    "builtin_function_or_method",
    "instance",
    "_Feature"
   ],
   "window_display": false
  }
 },
 "nbformat": 4,
 "nbformat_minor": 5
}
