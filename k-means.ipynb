{
 "cells": [
  {
   "cell_type": "markdown",
   "id": "2cbd0086",
   "metadata": {},
   "source": [
    "# RGB分量，全图片，聚类"
   ]
  },
  {
   "cell_type": "code",
   "execution_count": 2,
   "id": "b6dc0231",
   "metadata": {},
   "outputs": [
    {
     "name": "stdout",
     "output_type": "stream",
     "text": [
      "[0.77734375 0.77734375 0.39453125 0.37109375 0.19140625 0.16796875\n",
      " 0.1484375  0.14453125 0.1328125  0.11328125]\n",
      "[['pepper', 67, 21, 456, 365], ['root', 259, 313, 295, 370]]\n",
      "[259, 313, 295, 370]\n",
      "[[172 118 151]\n",
      " [134 122 150]\n",
      " [ 94 127 146]\n",
      " [ 47 131 140]]\n"
     ]
    }
   ],
   "source": [
    "from TFLite_detection_image import tflite_image_detection\n",
    "import numpy as np\n",
    "import cv2\n",
    "\n",
    "box = []\n",
    "image_path = 'img/test1.jpg'\n",
    "class_path = 'pepper_class.txt'\n",
    "model_path = 'pepper_detect_2cat_v3.tflite'\n",
    "result = tflite_image_detection(class_path, model_path, image_path)\n",
    "print(result)\n",
    "for i in range(len(result)):\n",
    "    if str(result[i][0]) == 'root':\n",
    "        box = result[i]\n",
    "        box.remove(box[0])\n",
    "print(box)\n",
    "# box = [259, 313, 295, 370]\n",
    "src = cv2.imread(image_path)\n",
    "src = src[box[1] - 10:box[3] + 10, box[0]:box[2] + 10]\n",
    "cv2.imwrite('origin.jpg', src)\n",
    "src = cv2.GaussianBlur(src, (3, 3), 0)  # 高斯滤波\n",
    "src = cv2.cvtColor(src, cv2.COLOR_BGR2Lab)\n",
    "img = src\n",
    "Z = img.reshape((-1, 3))\n",
    "# convert to np.float32\n",
    "Z = np.float32(Z)\n",
    "# define criteria, number of clusters(K) and apply kmeans()\n",
    "criteria = (cv2.TERM_CRITERIA_EPS + cv2.TERM_CRITERIA_MAX_ITER, 10, 1.0)\n",
    "K = 4\n",
    "ret, label, center = cv2.kmeans(Z, K, None, criteria, 10, cv2.KMEANS_RANDOM_CENTERS)\n",
    "# Now convert back into uint8, and make original image\n",
    "center = np.uint8(center)\n",
    "res = center[label.flatten()]\n",
    "# for i in range(len(res)):\n",
    "#     if res[i].all() == center[0].all():\n",
    "#         res[i] = [255,0,0]\n",
    "#     if res[i].all() == center[1].all():\n",
    "#         res[i] = [0,255,0]\n",
    "#     if res[i].all() == center[2].all():\n",
    "#         res[i] = [0,0,255]\n",
    "res2 = res.reshape(img.shape)\n",
    "dst = cv2.applyColorMap(res2, cv2.COLORMAP_RAINBOW)\n",
    "print(center)\n",
    "# blur = cv2.GaussianBlur(res2, (5, 5), 0)\n",
    "# res3, th3 = cv2.threshold(blur, 0, 255, cv2.THRESH_BINARY + cv2.THRESH_OTSU)\n",
    "cv2.imshow('res2', res2)\n",
    "cv2.imshow('res2_', dst)\n",
    "cv2.waitKey(0)\n",
    "cv2.destroyAllWindows()"
   ]
  },
  {
   "cell_type": "code",
   "execution_count": 59,
   "id": "25e53fe8",
   "metadata": {},
   "outputs": [
    {
     "data": {
      "text/plain": [
       "array([[ 77, 139, 113],\n",
       "       [ 80, 139, 113],\n",
       "       [ 80, 138, 115],\n",
       "       [ 71, 137, 116],\n",
       "       [ 69, 137, 116],\n",
       "       [ 86, 136, 116],\n",
       "       [100, 136, 116],\n",
       "       [ 99, 137, 116],\n",
       "       [ 89, 137, 116],\n",
       "       [ 76, 137, 116],\n",
       "       [ 65, 137, 115],\n",
       "       [ 54, 138, 116],\n",
       "       [ 39, 137, 117],\n",
       "       [ 29, 134, 118],\n",
       "       [ 37, 132, 117],\n",
       "       [ 63, 132, 114],\n",
       "       [ 84, 132, 111],\n",
       "       [ 86, 129, 108],\n",
       "       [ 85, 127, 105],\n",
       "       [ 91, 126, 105],\n",
       "       [ 99, 125, 104],\n",
       "       [106, 125, 103],\n",
       "       [115, 124, 101],\n",
       "       [121, 125, 101],\n",
       "       [127, 127, 101],\n",
       "       [123, 129, 102],\n",
       "       [100, 133, 104],\n",
       "       [ 76, 138, 107],\n",
       "       [ 76, 142, 106],\n",
       "       [ 96, 145, 105],\n",
       "       [121, 147, 105],\n",
       "       [141, 147, 106],\n",
       "       [150, 145, 105],\n",
       "       [131, 144, 107],\n",
       "       [ 95, 144, 108],\n",
       "       [ 63, 144, 108],\n",
       "       [ 48, 143, 110],\n",
       "       [ 58, 142, 111],\n",
       "       [ 77, 141, 111],\n",
       "       [ 79, 139, 111],\n",
       "       [ 65, 138, 111],\n",
       "       [ 54, 137, 111],\n",
       "       [ 62, 137, 111],\n",
       "       [ 74, 137, 109],\n",
       "       [ 72, 139, 109],\n",
       "       [ 67, 139, 109]], dtype=uint8)"
      ]
     },
     "execution_count": 59,
     "metadata": {},
     "output_type": "execute_result"
    }
   ],
   "source": [
    "src[src.shape[0]//2]"
   ]
  },
  {
   "cell_type": "markdown",
   "id": "1a530df0",
   "metadata": {},
   "source": [
    "# RGB分量，部分图片，聚类"
   ]
  },
  {
   "cell_type": "code",
   "execution_count": 5,
   "id": "b3c196d6",
   "metadata": {},
   "outputs": [
    {
     "name": "stdout",
     "output_type": "stream",
     "text": [
      "[0.75390625 0.6484375  0.40234375 0.19140625 0.19140625 0.16796875\n",
      " 0.140625   0.1171875  0.08984375 0.08203125]\n",
      "[['pepper', 297, 1, 618, 316], ['root', 423, 264, 447, 325]]\n",
      "[423, 264, 447, 325]\n",
      "[[ 38  77 104]\n",
      " [ 13  49  70]\n",
      " [  0   3   6]]\n"
     ]
    }
   ],
   "source": [
    "from TFLite_detection_image import tflite_image_detection\n",
    "import numpy as np\n",
    "import cv2\n",
    "from matplotlib import pyplot as plt\n",
    "box = []\n",
    "image_path = 'img/test9.jpg'\n",
    "class_path = 'pepper_class.txt'\n",
    "model_path = 'pepper_detect_2cat_0.5mnet.tflite'\n",
    "result = tflite_image_detection(class_path, model_path, image_path)\n",
    "print(result)\n",
    "for i in range(len(result)):\n",
    "    if str(result[i][0]) == 'root':\n",
    "        box = result[i]\n",
    "        box.remove(box[0])\n",
    "print(box)\n",
    "# box = [259, 313, 295, 370]\n",
    "src = cv2.imread(image_path)\n",
    "src_show = src[box[1]:box[3], box[0]:box[2] + 10]\n",
    "src = src[box[1]:box[3], box[0]:box[2] + 10]\n",
    "# src = src[src.shape[0]//3:2*src.shape[0]//3]\n",
    "# _range = np.max(src[0]) - np.min(src[0])\n",
    "# src[0] = (src[0] - np.min(src[0])) / _range\n",
    "# _range = np.max(src[1]) - np.min(src[1])\n",
    "# src[1] = (src[1] - np.min(src[1])) / _range\n",
    "# _range = np.max(src[2]) - np.min(src[2])\n",
    "# src[2] = (src[2] - np.min(src[2])) / _range\n",
    "norms = np.linalg.norm(src[0])\n",
    "src[0] = src[0]/norms\n",
    "norms = np.linalg.norm(src[1])\n",
    "src[1] = src[1]/norms\n",
    "norms = np.linalg.norm(src[2])\n",
    "src[2] = src[2]/norms\n",
    "Z = src.reshape((-1, 3))\n",
    "Z = np.float32(Z)\n",
    "criteria = (cv2.TERM_CRITERIA_EPS + cv2.TERM_CRITERIA_MAX_ITER, 10, 1.0)\n",
    "K = 3\n",
    "ret, label, center = cv2.kmeans(Z, K, None, criteria, 10, cv2.KMEANS_RANDOM_CENTERS)\n",
    "center = np.uint8(center)\n",
    "res = center[label.flatten()]\n",
    "print(center)\n",
    "# img_show = np.zeros(src.shape)\n",
    "# img_show[:] = res\n",
    "img_show = np.uint8(res).reshape(src.shape)\n",
    "img_show = cv2.applyColorMap(img_show, cv2.COLORMAP_RAINBOW)\n",
    "cv2.imshow('origin', src_show)\n",
    "cv2.imshow('show', img_show)\n",
    "# plt.imshow('show', img_show)\n",
    "# plt.imshow('src', src[src.shape[0]//3:2*src.shape[0]//3])\n",
    "cv2.waitKey(0)\n",
    "cv2.destroyAllWindows()"
   ]
  },
  {
   "cell_type": "markdown",
   "id": "bd79dfd0",
   "metadata": {},
   "source": [
    "# K-Means聚类实例"
   ]
  },
  {
   "cell_type": "code",
   "execution_count": 6,
   "id": "e4ecf75a",
   "metadata": {},
   "outputs": [
    {
     "ename": "error",
     "evalue": "OpenCV(3.4.7) C:\\projects\\opencv-python\\opencv\\modules\\core\\src\\matrix.cpp:757: error: (-215:Assertion failed) dims <= 2 && step[0] > 0 in function 'cv::Mat::locateROI'\n",
     "output_type": "error",
     "traceback": [
      "\u001b[1;31m---------------------------------------------------------------------------\u001b[0m",
      "\u001b[1;31merror\u001b[0m                                     Traceback (most recent call last)",
      "\u001b[1;32m~\\AppData\\Local\\Temp/ipykernel_9800/2298427036.py\u001b[0m in \u001b[0;36m<module>\u001b[1;34m\u001b[0m\n\u001b[0;32m      2\u001b[0m \u001b[1;32mimport\u001b[0m \u001b[0mcv2\u001b[0m\u001b[1;33m\u001b[0m\u001b[1;33m\u001b[0m\u001b[0m\n\u001b[0;32m      3\u001b[0m \u001b[0msrc\u001b[0m \u001b[1;33m=\u001b[0m \u001b[0mcv2\u001b[0m\u001b[1;33m.\u001b[0m\u001b[0mimread\u001b[0m\u001b[1;33m(\u001b[0m\u001b[1;34m'img/littleduck.jpg'\u001b[0m\u001b[1;33m)\u001b[0m\u001b[1;33m\u001b[0m\u001b[1;33m\u001b[0m\u001b[0m\n\u001b[1;32m----> 4\u001b[1;33m \u001b[0msrc\u001b[0m \u001b[1;33m=\u001b[0m \u001b[0mcv2\u001b[0m\u001b[1;33m.\u001b[0m\u001b[0mGaussianBlur\u001b[0m\u001b[1;33m(\u001b[0m\u001b[0msrc\u001b[0m\u001b[1;33m,\u001b[0m \u001b[1;33m(\u001b[0m\u001b[1;36m3\u001b[0m\u001b[1;33m,\u001b[0m \u001b[1;36m3\u001b[0m\u001b[1;33m)\u001b[0m\u001b[1;33m,\u001b[0m \u001b[1;36m0\u001b[0m\u001b[1;33m)\u001b[0m  \u001b[1;31m# 高斯滤波\u001b[0m\u001b[1;33m\u001b[0m\u001b[1;33m\u001b[0m\u001b[0m\n\u001b[0m\u001b[0;32m      5\u001b[0m \u001b[0msrc\u001b[0m \u001b[1;33m=\u001b[0m \u001b[0mcv2\u001b[0m\u001b[1;33m.\u001b[0m\u001b[0mcvtColor\u001b[0m\u001b[1;33m(\u001b[0m\u001b[0msrc\u001b[0m\u001b[1;33m,\u001b[0m \u001b[0mcv2\u001b[0m\u001b[1;33m.\u001b[0m\u001b[0mCOLOR_BGR2YCrCb\u001b[0m\u001b[1;33m)\u001b[0m\u001b[1;33m\u001b[0m\u001b[1;33m\u001b[0m\u001b[0m\n\u001b[0;32m      6\u001b[0m \u001b[0mimg\u001b[0m \u001b[1;33m=\u001b[0m \u001b[0msrc\u001b[0m\u001b[1;33m\u001b[0m\u001b[1;33m\u001b[0m\u001b[0m\n",
      "\u001b[1;31merror\u001b[0m: OpenCV(3.4.7) C:\\projects\\opencv-python\\opencv\\modules\\core\\src\\matrix.cpp:757: error: (-215:Assertion failed) dims <= 2 && step[0] > 0 in function 'cv::Mat::locateROI'\n"
     ]
    }
   ],
   "source": [
    "import numpy as np\n",
    "import cv2\n",
    "src = cv2.imread('img/littleduck.jpg')\n",
    "src = cv2.GaussianBlur(src, (3, 3), 0)  # 高斯滤波\n",
    "src = cv2.cvtColor(src, cv2.COLOR_BGR2YCrCb)\n",
    "img = src\n",
    "Z = img.reshape((-1, 3))\n",
    "# convert to np.float32\n",
    "Z = np.float32(Z)\n",
    "# define criteria, number of clusters(K) and apply kmeans()\n",
    "criteria = (cv2.TERM_CRITERIA_EPS + cv2.TERM_CRITERIA_MAX_ITER, 10, 1.0)\n",
    "K = 3\n",
    "ret, label, center = cv2.kmeans(Z, K, None, criteria, 10, cv2.KMEANS_RANDOM_CENTERS)\n",
    "# Now convert back into uint8, and make original image\n",
    "center = np.uint8(center)\n",
    "res = center[label.flatten()]\n",
    "res2 = res.reshape(img.shape)\n",
    "dst = cv2.applyColorMap(res2, cv2.COLORMAP_RAINBOW)\n",
    "print(center)\n",
    "# blur = cv2.GaussianBlur(res2, (5, 5), 0)\n",
    "# res3, th3 = cv2.threshold(blur, 0, 255, cv2.THRESH_BINARY + cv2.THRESH_OTSU)\n",
    "cv2.imshow('res2', res2)\n",
    "cv2.imshow('res2_', dst)\n",
    "cv2.waitKey(0)\n",
    "cv2.destroyAllWindows()"
   ]
  },
  {
   "cell_type": "code",
   "execution_count": null,
   "id": "ef54e201",
   "metadata": {},
   "outputs": [],
   "source": [
    "import matplotlib.pyplot as plt\n",
    "import matplotlib.image as mpimg\n",
    "img = mpimg.imread('img/test1.jpg')\n",
    "imgplot = plt.imshow(img)"
   ]
  },
  {
   "cell_type": "code",
   "execution_count": 40,
   "id": "a5cba7e1",
   "metadata": {},
   "outputs": [
    {
     "name": "stdout",
     "output_type": "stream",
     "text": [
      "[0.77734375 0.6484375  0.24609375 0.1796875  0.1328125  0.1328125\n",
      " 0.1328125  0.12109375 0.1171875  0.1171875 ]\n",
      "[['pepper', 72, 10, 440, 368], ['root', 269, 321, 294, 372]]\n",
      "[269, 321, 294, 372]\n",
      "[[101 124 149]\n",
      " [ 49 131 140]\n",
      " [141 122 151]]\n"
     ]
    }
   ],
   "source": [
    "from TFLite_detection_image import tflite_image_detection\n",
    "import numpy as np\n",
    "import cv2\n",
    "from matplotlib import pyplot as plt\n",
    "box = []\n",
    "image_path = 'img/test1.jpg'\n",
    "class_path = 'pepper_class.txt'\n",
    "model_path = 'pepper_detect_2cat_0.5mnet.tflite'\n",
    "result = tflite_image_detection(class_path, model_path, image_path)\n",
    "print(result)\n",
    "for i in range(len(result)):\n",
    "    if str(result[i][0]) == 'root':\n",
    "        box = result[i]\n",
    "        box.remove(box[0])\n",
    "print(box)\n",
    "# box = [259, 313, 295, 370]\n",
    "src = cv2.imread(image_path)\n",
    "src = src[box[1]:box[3], box[0]:box[2] + 10]\n",
    "src1 = cv2.GaussianBlur(src, (3, 3), 0)  # 高斯滤波\n",
    "src = cv2.cvtColor(src1, cv2.COLOR_BGR2Lab)\n",
    "Z = src.reshape((-1, 3))\n",
    "Z = np.float32(Z)\n",
    "criteria = (cv2.TERM_CRITERIA_EPS + cv2.TERM_CRITERIA_MAX_ITER, 10, 1.0)\n",
    "K = 3\n",
    "ret, label, center = cv2.kmeans(Z, K, None, criteria, 10, cv2.KMEANS_RANDOM_CENTERS)\n",
    "center = np.uint8(center)\n",
    "res = center[label.flatten()]\n",
    "print(center)\n",
    "# img_show = np.zeros(src.shape)\n",
    "# img_show[:] = res\n",
    "img_show = np.uint8(res).reshape(src.shape)\n",
    "# dst = cv2.applyColorMap(img_show, cv2.COLORMAP_SPRING)\n",
    "dst = img_show\n",
    "cv2.imshow('src', src1)\n",
    "cv2.imwrite('src.jpg',src1)\n",
    "cv2.imshow('res2_', dst)\n",
    "cv2.imwrite('result.jpg',dst)\n",
    "cv2.waitKey(0)\n",
    "cv2.destroyAllWindows()"
   ]
  },
  {
   "cell_type": "code",
   "execution_count": 44,
   "id": "439f04f1",
   "metadata": {},
   "outputs": [
    {
     "name": "stdout",
     "output_type": "stream",
     "text": [
      "[0.77734375 0.6484375  0.24609375 0.1796875  0.1328125  0.1328125\n",
      " 0.1328125  0.12109375 0.1171875  0.1171875 ]\n",
      "[['pepper', 72, 10, 440, 368], ['root', 269, 321, 294, 372]]\n",
      "[269, 321, 294, 372]\n",
      "[[ 63 132 143]\n",
      " [159 126 149]\n",
      " [130 120 152]\n",
      " [ 98 124 150]\n",
      " [ 39 130 139]]\n"
     ]
    },
    {
     "data": {
      "image/png": "[encoded data removed]",
      "text/plain": [
       "<Figure size 432x288 with 3 Axes>"
      ]
     },
     "metadata": {
      "needs_background": "light"
     },
     "output_type": "display_data"
    }
   ],
   "source": [
    "from TFLite_detection_image import tflite_image_detection\n",
    "import numpy as np\n",
    "import cv2\n",
    "from matplotlib import pyplot as plt\n",
    "box = []\n",
    "image_path = 'img/test1.jpg'\n",
    "class_path = 'pepper_class.txt'\n",
    "model_path = 'pepper_detect_2cat_0.5mnet.tflite'\n",
    "result = tflite_image_detection(class_path, model_path, image_path)\n",
    "print(result)\n",
    "for i in range(len(result)):\n",
    "    if str(result[i][0]) == 'root':\n",
    "        box = result[i]\n",
    "        box.remove(box[0])\n",
    "print(box)\n",
    "# box = [259, 313, 295, 370]\n",
    "src = cv2.imread(image_path)\n",
    "src = src[box[1]:box[3], box[0]:box[2] + 10]\n",
    "src = cv2.GaussianBlur(src, (3, 3), 0)  # 高斯滤波\n",
    "src = cv2.cvtColor(src, cv2.COLOR_BGR2Lab)\n",
    "Z = src.reshape((-1, 3))\n",
    "Z = np.float32(Z)\n",
    "criteria = (cv2.TERM_CRITERIA_EPS + cv2.TERM_CRITERIA_MAX_ITER, 10, 1.0)\n",
    "K = 5\n",
    "ret, label, center = cv2.kmeans(Z, K, None, criteria, 10, cv2.KMEANS_RANDOM_CENTERS)\n",
    "center = np.uint8(center)\n",
    "res = center[label.flatten()]\n",
    "print(center)\n",
    "# img_show = np.zeros(src.shape)\n",
    "# img_show[:] = res\n",
    "img_show = np.uint8(res).reshape(src.shape)\n",
    "cv2.imwrite('result.jpg',img_show)\n",
    "fig = plt.figure()\n",
    "ax = fig.add_subplot(1, 3, 1)\n",
    "imgplot = plt.imshow(src)\n",
    "ax = fig.add_subplot(1, 3, 2)\n",
    "src = src[src.shape[0]//4:3*src.shape[0]//4]\n",
    "imgplot = plt.imshow(src)\n",
    "ax = fig.add_subplot(1, 3, 3)\n",
    "imgplot = plt.imshow(img_show)"
   ]
  },
  {
   "cell_type": "code",
   "execution_count": 8,
   "id": "f4b10423",
   "metadata": {},
   "outputs": [
    {
     "name": "stdout",
     "output_type": "stream",
     "text": [
      "rgb22.jpg\n",
      "[0.72265625 0.6953125  0.1875     0.171875   0.140625   0.125\n",
      " 0.125      0.12109375 0.1015625  0.1015625 ]\n",
      "[['root', 475, 267, 502, 326], ['pepper', 304, 1, 630, 317]]\n",
      "rgb23.jpg\n",
      "[0.77734375 0.74609375 0.32421875 0.24609375 0.24609375 0.23046875\n",
      " 0.21484375 0.1796875  0.171875   0.1484375 ]\n",
      "[['root', 404, 290, 429, 344], ['pepper', 233, 1, 585, 347]]\n",
      "test1.jpg\n",
      "[0.77734375 0.6484375  0.24609375 0.1796875  0.1328125  0.1328125\n",
      " 0.1328125  0.12109375 0.1171875  0.1171875 ]\n",
      "[['pepper', 72, 10, 440, 368], ['root', 269, 321, 294, 372]]\n",
      "test5.jpg\n",
      "[0.8515625  0.77734375 0.42578125 0.19140625 0.125      0.125\n",
      " 0.109375   0.10546875 0.08984375 0.0859375 ]\n",
      "[['pepper', 255, 138, 537, 404], ['root', 347, 365, 373, 407]]\n",
      "test6.jpg\n",
      "[0.75390625 0.60546875 0.24609375 0.21484375 0.1796875  0.16796875\n",
      " 0.12890625 0.125      0.08984375 0.08984375]\n",
      "[['pepper', 203, 1, 572, 322], ['root', 356, 260, 384, 325]]\n",
      "test7.jpg\n",
      "[0.79296875 0.77734375 0.15625    0.1171875  0.10546875 0.09375\n",
      " 0.08984375 0.0859375  0.078125   0.078125  ]\n",
      "[['pepper', 329, 6, 621, 349], ['root', 412, 286, 435, 350]]\n",
      "test8.jpg\n",
      "[0.75390625 0.73828125 0.20703125 0.1875     0.171875   0.16796875\n",
      " 0.15625    0.15625    0.140625   0.12890625]\n",
      "[['pepper', 512, 2, 1072, 545], ['root', 750, 454, 795, 548]]\n",
      "test9.jpg\n",
      "[0.75390625 0.6484375  0.40234375 0.19140625 0.19140625 0.16796875\n",
      " 0.140625   0.1171875  0.08984375 0.08203125]\n",
      "[['pepper', 297, 1, 618, 316], ['root', 423, 264, 447, 325]]\n"
     ]
    }
   ],
   "source": [
    "from TFLite_detection_image import tflite_image_detection\n",
    "import numpy as np\n",
    "import cv2\n",
    "from matplotlib import pyplot as plt\n",
    "import os\n",
    "files = os.listdir('img')\n",
    "for file in files:\n",
    "    print(file)\n",
    "    box = []\n",
    "    image_path = 'img/' + file\n",
    "    class_path = 'pepper_class.txt'\n",
    "    model_path = 'pepper_detect_2cat_0.5mnet.tflite'\n",
    "    result = tflite_image_detection(class_path, model_path, image_path)\n",
    "    print(result)\n",
    "    for i in range(len(result)):\n",
    "        if str(result[i][0]) == 'root':\n",
    "            box = result[i]\n",
    "            box.remove(box[0])\n",
    "    # box = [259, 313, 295, 370]\n",
    "    src = cv2.imread(image_path)\n",
    "    src = src[box[1]:box[3] + 5, box[0]:box[2] ]\n",
    "    src = cv2.GaussianBlur(src, (3, 3), 1)\n",
    "    src = cv2.cvtColor(src, cv2.COLOR_BGR2HSV)\n",
    "    img = src\n",
    "    Z = src.reshape((-1, 3))\n",
    "    Z = np.float32(Z)\n",
    "    criteria = (cv2.TERM_CRITERIA_EPS + cv2.TERM_CRITERIA_MAX_ITER, 10, 1.0)\n",
    "    K = 2\n",
    "    ret, label, center = cv2.kmeans(Z, K, None, criteria, 10, cv2.KMEANS_RANDOM_CENTERS)\n",
    "    center = np.uint8(center)\n",
    "    imgHSV = img\n",
    "    # lower = np.array([14, 150, 40])\n",
    "    lower = np.array(center.min(0), dtype='int32')\n",
    "    upper = np.array([255, 255, 255])\n",
    "    # 获得指定颜色范围内的掩码\n",
    "    mask = cv2.inRange(imgHSV, lower, upper)\n",
    "    # 对原图图像进行按位与的操作，掩码区域保留\n",
    "    imgResult = cv2.bitwise_and(img, img, mask=mask)\n",
    "    cv2.imshow(\"origin\", cv2.cvtColor(src, cv2.COLOR_HSV2BGR))\n",
    "    cv2.imshow(\"Mask\", mask)\n",
    "    #显示分割后的图像\n",
    "    cv2.imshow(\"Result\", imgResult)\n",
    "    cv2.waitKey(0)\n",
    "    cv2.destroyAllWindows()"
   ]
  },
  {
   "cell_type": "code",
   "execution_count": 3,
   "id": "ecdf8ee7",
   "metadata": {},
   "outputs": [
    {
     "data": {
      "text/plain": [
       "array([ 18, 166,  72], dtype=uint8)"
      ]
     },
     "execution_count": 3,
     "metadata": {},
     "output_type": "execute_result"
    }
   ],
   "source": [
    "center.min(0)"
   ]
  },
  {
   "cell_type": "code",
   "execution_count": 4,
   "id": "3e2783e9",
   "metadata": {},
   "outputs": [],
   "source": [
    "import os\n",
    "files = os.listdir('img')\n",
    "for file in files:\n",
    "    print(file)"
   ]
  },
  {
   "cell_type": "code",
   "execution_count": 5,
   "id": "b7063e77",
   "metadata": {},
   "outputs": [
    {
     "name": "stdout",
     "output_type": "stream",
     "text": [
      "03.jpg\n",
      "04.jpg\n",
      "05.jpg\n",
      "littleduck.jpg\n",
      "phone46_640.jpg\n",
      "phone48_640.jpg\n",
      "phone72_640.jpg\n",
      "phone74_640.jpg\n",
      "phone76_640.jpg\n",
      "phone78_640.jpg\n",
      "test1.jpg\n",
      "test5.jpg\n"
     ]
    }
   ],
   "source": []
  },
  {
   "cell_type": "code",
   "execution_count": 8,
   "id": "0ecb63ba",
   "metadata": {},
   "outputs": [
    {
     "data": {
      "text/plain": [
       "array([[0.13333334, 0.19607843, 0.19215687],\n",
       "       [0.26666668, 0.31764707, 0.3254902 ],\n",
       "       [0.04313726, 0.10196079, 0.10980392],\n",
       "       [0.03921569, 0.1254902 , 0.11764706],\n",
       "       [0.09803922, 0.21176471, 0.2       ],\n",
       "       [0.26666668, 0.40392157, 0.3882353 ],\n",
       "       [0.21960784, 0.39215687, 0.3647059 ],\n",
       "       [0.14117648, 0.34509805, 0.30588236],\n",
       "       [0.10588235, 0.3254902 , 0.27450982],\n",
       "       [0.06666667, 0.29803923, 0.23921569],\n",
       "       [0.11372549, 0.34509805, 0.28627452],\n",
       "       [0.11372549, 0.34509805, 0.28627452],\n",
       "       [0.14117648, 0.3764706 , 0.30588236],\n",
       "       [0.20392157, 0.44313726, 0.3647059 ],\n",
       "       [0.25882354, 0.49019608, 0.4117647 ],\n",
       "       [0.2784314 , 0.49019608, 0.4392157 ],\n",
       "       [0.09803922, 0.29411766, 0.2784314 ],\n",
       "       [0.39607844, 0.5568628 , 0.5921569 ],\n",
       "       [0.59607846, 0.7372549 , 0.80784315],\n",
       "       [0.5686275 , 0.69803923, 0.7764706 ],\n",
       "       [0.49019608, 0.627451  , 0.7058824 ],\n",
       "       [0.3019608 , 0.44313726, 0.5137255 ],\n",
       "       [0.5019608 , 0.65882355, 0.7294118 ],\n",
       "       [0.5137255 , 0.68235296, 0.7490196 ],\n",
       "       [0.50980395, 0.68235296, 0.7490196 ],\n",
       "       [0.50980395, 0.6745098 , 0.7490196 ],\n",
       "       [0.5137255 , 0.68235296, 0.7490196 ],\n",
       "       [0.47843137, 0.63529414, 0.7058824 ],\n",
       "       [0.45490196, 0.60784316, 0.6627451 ],\n",
       "       [0.5254902 , 0.6666667 , 0.7058824 ],\n",
       "       [0.5529412 , 0.6901961 , 0.7294118 ],\n",
       "       [0.52156866, 0.64705884, 0.69803923],\n",
       "       [0.45490196, 0.57254905, 0.6392157 ],\n",
       "       [0.45490196, 0.5568628 , 0.6509804 ],\n",
       "       [0.4862745 , 0.5882353 , 0.68235296]], dtype=float32)"
      ]
     },
     "execution_count": 8,
     "metadata": {},
     "output_type": "execute_result"
    }
   ],
   "source": [
    "src[0]"
   ]
  },
  {
   "cell_type": "code",
   "execution_count": null,
   "id": "8f5b5638",
   "metadata": {},
   "outputs": [],
   "source": []
  }
 ],
 "metadata": {
  "kernelspec": {
   "display_name": "TFLite",
   "language": "python",
   "name": "tflite"
  },
  "language_info": {
   "codemirror_mode": {
    "name": "ipython",
    "version": 3
   },
   "file_extension": ".py",
   "mimetype": "text/x-python",
   "name": "python",
   "nbconvert_exporter": "python",
   "pygments_lexer": "ipython3",
   "version": "3.7.11"
  },
  "varInspector": {
   "cols": {
    "lenName": 16,
    "lenType": 16,
    "lenVar": 40
   },
   "kernels_config": {
    "python": {
     "delete_cmd_postfix": "",
     "delete_cmd_prefix": "del ",
     "library": "var_list.py",
     "varRefreshCmd": "print(var_dic_list())"
    },
    "r": {
     "delete_cmd_postfix": ") ",
     "delete_cmd_prefix": "rm(",
     "library": "var_list.r",
     "varRefreshCmd": "cat(var_dic_list()) "
    }
   },
   "position": {
    "height": "505.85px",
    "left": "985.2px",
    "right": "20px",
    "top": "108px",
    "width": "350px"
   },
   "types_to_exclude": [
    "module",
    "function",
    "builtin_function_or_method",
    "instance",
    "_Feature"
   ],
   "window_display": false
  }
 },
 "nbformat": 4,
 "nbformat_minor": 5
}
